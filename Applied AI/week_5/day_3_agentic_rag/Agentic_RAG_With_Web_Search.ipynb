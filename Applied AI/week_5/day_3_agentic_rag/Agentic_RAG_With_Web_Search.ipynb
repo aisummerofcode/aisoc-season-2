{
  "cells": [
    {
      "cell_type": "markdown",
      "metadata": {},
      "source": [
        "# **Agentic RAG with Web Search - David Okpare**\n",
        "\n",
        "\n",
        "[![Open In Colab](https://colab.research.google.com/assets/colab-badge.svg)](https://colab.research.google.com/drive/1ngPQwhKcCd1878oRpW254n9z0yLEia1d?usp=sharing)"
      ]
    },
    {
      "cell_type": "markdown",
      "metadata": {
        "id": "670e8ffe"
      },
      "source": [
        "## Installation\n",
        "\n",
        "**Note:** The following cell installs the necessary libraries:\n",
        "\n",
        "*   `pydantic-ai`: [https://ai.pydantic.dev](https://ai.pydantic.dev)\n",
        "*   `pydantic`: [https://docs.pydantic.dev/](https://docs.pydantic.dev/)\n",
        "*   `tavily-python`: [https://docs.tavily.com/welcome](https://docs.tavily.com/welcome)"
      ]
    },
    {
      "cell_type": "code",
      "execution_count": null,
      "metadata": {
        "collapsed": true,
        "id": "nl8OCtMnvAHw"
      },
      "outputs": [],
      "source": [
        "!pip install -qqU pydantic-ai pydantic tavily-python"
      ]
    },
    {
      "cell_type": "code",
      "execution_count": null,
      "metadata": {
        "id": "eCcJBN8XxZyW"
      },
      "outputs": [],
      "source": [
        "import os\n",
        "from typing import Dict, List\n",
        "\n",
        "from pydantic_ai import Agent\n",
        "from pydantic import BaseModel\n",
        "from tavily import TavilyClient"
      ]
    },
    {
      "cell_type": "markdown",
      "metadata": {
        "id": "53f6b6fd"
      },
      "source": [
        "## API Keys\n",
        "\n",
        "You'll need API keys for the services you'll be using. It's recommended to store these securely in Colab Secrets. For Gemini API keys, you can obtain them from [https://aistudio.google.com/](https://aistudio.google.com/).\n",
        "\n",
        "For Tavily API keys, you can obtain them from [https://app.tavily.com/home](https://app.tavily.com/home)\n",
        "\n",
        "1.  **Open Colab Secrets:** Click on the \"🔑\" icon in the left sidebar.\n",
        "2.  **Add a new secret:** Click the \"+\" button to add a new secret.\n",
        "3.  **Name the secret:** Enter a name for your API key (e.g., `TAVILY_API_KEY`, `GOOGLE_API_KEY`).\n",
        "4.  **Enter the secret value:** Paste your API key into the value field.\n",
        "5.  **Save:** Click \"Save secret\".\n",
        "\n",
        "Once you've added your API keys to Colab Secrets, you can access them in your notebook like this:"
      ]
    },
    {
      "cell_type": "code",
      "execution_count": null,
      "metadata": {
        "id": "869ff85c"
      },
      "outputs": [],
      "source": [
        "from google.colab import userdata\n",
        "\n",
        "# Replace 'YOUR_SECRET_NAME' with the actual name of your secret in Colab Secrets\n",
        "tavily_api_key = userdata.get('TAVILY_API_KEY')\n",
        "google_api_key = userdata.get('OPENAI_API_KEY')\n",
        "\n",
        "# Now you can set these variables in the environment\n",
        "os.environ['TAVILY_API_KEY'] = tavily_api_key\n",
        "os.environ['OPENAI_API_KEY'] = google_api_key"
      ]
    },
    {
      "cell_type": "markdown",
      "metadata": {
        "id": "8Lk0y7bg8eWZ"
      },
      "source": [
        "### Choosing a model\n",
        "\n",
        "We'd use Gemini 2.5 Flash. However you can modify the model name to any choice of yours. See [here](https://ai.pydantic.dev/api/models/base/) for all the support model names by Pydantic AI."
      ]
    },
    {
      "cell_type": "code",
      "execution_count": null,
      "metadata": {
        "id": "BS9bNblf8Wgs"
      },
      "outputs": [],
      "source": [
        "model = \"openai:gpt-4.1\""
      ]
    },
    {
      "cell_type": "markdown",
      "metadata": {
        "id": "5c28fe27"
      },
      "source": [
        "## Configure Agent\n",
        "\n",
        "Now, let's configure *the* agent."
      ]
    },
    {
      "cell_type": "code",
      "execution_count": null,
      "metadata": {
        "id": "5EBS2CQg4WJC"
      },
      "outputs": [],
      "source": [
        "instructions = \"\"\"\n",
        "You are an helpful assistant that returns real time information about a given subject or query.\n",
        "You have access to the internet, using the \"search_tool\".\n",
        "Please make sure to ground your answers with results from the internet.\n",
        "For simple greetings, you can answer freely without access the web.\n",
        "\"\"\""
      ]
    },
    {
      "cell_type": "code",
      "execution_count": null,
      "metadata": {
        "id": "gfMbo8C74hcI"
      },
      "outputs": [],
      "source": [
        "research_agent = Agent(\n",
        "    model=model,\n",
        "    instructions=instructions\n",
        ")"
      ]
    },
    {
      "cell_type": "markdown",
      "metadata": {
        "id": "58ab3b4e"
      },
      "source": [
        "## Configure Search Tool\n",
        "\n",
        "Now, let's configure the search tool using the `search_tool` function we defined earlier. This function will be used by the agent to perform web searches."
      ]
    },
    {
      "cell_type": "markdown",
      "metadata": {
        "id": "9610a019"
      },
      "source": [
        "#### Configuring Tavily\n",
        "\n",
        "**Note:** This section outlines the utility functions for interacting with the Tavily API."
      ]
    },
    {
      "cell_type": "code",
      "execution_count": null,
      "metadata": {
        "id": "Twdf-unm2gue"
      },
      "outputs": [],
      "source": [
        "def search_web(\n",
        "    query: str,\n",
        "    max_results: int = 5,\n",
        "    include_answer: bool = False,\n",
        "    include_raw_content: bool = False,\n",
        "    search_depth: str = \"basic\"\n",
        ") -> Dict:\n",
        "    \"\"\"\n",
        "    Search the web using Tavily API.\n",
        "\n",
        "    Args:\n",
        "        query: The search query string\n",
        "        max_results: Maximum number of search results to return (default: 5)\n",
        "        include_answer: Whether to include AI-generated answer (default: True)\n",
        "        include_raw_content: Whether to include raw HTML content (default: False)\n",
        "        search_depth: Search depth - \"basic\" or \"advanced\" (default: \"basic\")\n",
        "\n",
        "    Returns:\n",
        "        Dict containing search results with keys:\n",
        "        - answer: AI-generated answer (if include_answer=True)\n",
        "        - results: List of search results with title, url, content, and score\n",
        "        - query: The original search query\n",
        "\n",
        "    Raises:\n",
        "        ValueError: If TAVILY_API_KEY environment variable is not set\n",
        "        Exception: If the API request fails\n",
        "    \"\"\"\n",
        "    api_key = os.getenv(\"TAVILY_API_KEY\")\n",
        "    if not api_key:\n",
        "        raise ValueError(\n",
        "            \"TAVILY_API_KEY environment variable not set. \"\n",
        "            \"Get your API key from https://app.tavily.com/home\"\n",
        "        )\n",
        "\n",
        "    try:\n",
        "        tavily_client = TavilyClient(api_key=api_key)\n",
        "\n",
        "        response = tavily_client.search(\n",
        "            query=query,\n",
        "            max_results=max_results,\n",
        "            include_answer=include_answer,\n",
        "            include_raw_content=include_raw_content,\n",
        "            search_depth=search_depth\n",
        "        )\n",
        "\n",
        "        return response\n",
        "\n",
        "    except Exception as e:\n",
        "        raise Exception(f\"Tavily API request failed: {str(e)}\")"
      ]
    },
    {
      "cell_type": "code",
      "execution_count": null,
      "metadata": {
        "id": "GJDaqcKC3G4L"
      },
      "outputs": [],
      "source": [
        "def format_search_results(search_results: Dict) -> List[str]:\n",
        "    \"\"\"\n",
        "    Format content from Tavily search results for LLM processing.\n",
        "\n",
        "    Args:\n",
        "        search_results: Dict returned from search_web function\n",
        "\n",
        "    Returns:\n",
        "        List of content strings from search results\n",
        "    \"\"\"\n",
        "    content_list = []\n",
        "\n",
        "    # Add AI-generated answer if available\n",
        "    if \"answer\" in search_results and search_results[\"answer\"]:\n",
        "        content_list.append(f\"AI Summary: {search_results['answer']}\")\n",
        "\n",
        "    # Add content from each search result\n",
        "    if \"results\" in search_results:\n",
        "        for result in search_results[\"results\"]:\n",
        "            if \"content\" in result and result[\"content\"]:\n",
        "                title = result.get(\"title\", \"Unknown Title\")\n",
        "                url = result.get(\"url\", \"Unknown URL\")\n",
        "                content = result[\"content\"]\n",
        "\n",
        "                formatted_content = f\"Source: {title} ({url})\\nContent: {content}\"\n",
        "                content_list.append(formatted_content)\n",
        "\n",
        "    return content_list\n"
      ]
    },
    {
      "cell_type": "markdown",
      "metadata": {
        "id": "1e0b6987"
      },
      "source": [
        "#### Creating Search Tool\n",
        "\n",
        "We are now creating a search tool using pydantic-ai."
      ]
    },
    {
      "cell_type": "code",
      "execution_count": null,
      "metadata": {
        "id": "JusVd3Ir3ey6"
      },
      "outputs": [],
      "source": [
        "@research_agent.tool_plain\n",
        "def search_tool(query: str, max_results: int = 3) -> str:\n",
        "    \"\"\"\n",
        "    Search web and format results for RAG system input.\n",
        "\n",
        "    Args:\n",
        "        query: Search query string\n",
        "        max_results: Maximum number of search results (default: 3)\n",
        "\n",
        "    Returns:\n",
        "        Formatted string ready for RAG processing\n",
        "    \"\"\"\n",
        "    try:\n",
        "        search_results = search_web(query, max_results=max_results)\n",
        "        content_list = format_search_results(search_results)\n",
        "\n",
        "        formatted_content = f\"Web Search Query: {query}\\n\\n\"\n",
        "        formatted_content += \"\\n\\n---\\n\\n\".join(content_list)\n",
        "\n",
        "        return formatted_content\n",
        "\n",
        "    except Exception as e:\n",
        "        return f\"Error performing web search: {str(e)}\"\n"
      ]
    },
    {
      "cell_type": "markdown",
      "metadata": {
        "id": "adea8220"
      },
      "source": [
        "## Running Agent\n",
        "\n",
        "Let's see the agent in action."
      ]
    },
    {
      "cell_type": "code",
      "execution_count": null,
      "metadata": {
        "colab": {
          "base_uri": "https://localhost:8080/"
        },
        "id": "cq9dPVgx6oyM",
        "outputId": "ad9edabe-80ac-4fdb-9a20-81575a2b44df"
      },
      "outputs": [
        {
          "name": "stdout",
          "output_type": "stream",
          "text": [
            "There are a few different initiatives that could be referred to as \"AISoC\":\n",
            "\n",
            "*   **AISOC Presents: Symposium V.2.0** is a single event happening on August 11th, 2024, from 10:00 AM to 1:00 PM.\n",
            "*   **AISoC Season 1 (ai-summer-of-code)** is a 4-week program that takes place on Saturdays: August 10, 17, 24, and 31, 2024, from 10:00 AM to 3:00 PM. Therefore, it starts on August 10, 2024, and ends on August 31, 2024.\n",
            "*   **Artificial Intelligence and Service Oriented Computing (AI&SoC)** refers to a special issue with a submission deadline of May 31st, 2025, and paper notification on July 31st, 2025. This does not have traditional start and end dates like an event.\n"
          ]
        }
      ],
      "source": [
        "result = await research_agent.run(\"When did AISoC start and when is it ending?\")\n",
        "print(result.output)"
      ]
    },
    {
      "cell_type": "code",
      "execution_count": null,
      "metadata": {
        "colab": {
          "base_uri": "https://localhost:8080/"
        },
        "id": "H4uckloV7rVf",
        "outputId": "406df403-2c1a-495e-924e-49ebb3971a1e"
      },
      "outputs": [
        {
          "name": "stdout",
          "output_type": "stream",
          "text": [
            "There seems to be a few organizations that go by \"AISoC\" or similar acronyms, with different founding dates and origins:\n",
            "\n",
            "*   **Edinburgh University AI Society Company (AISoC)**: It was started around **June 1999**, when Dr. Peter Ross approached Michael Elkaim, who was then the President of the AI Society, with the idea of establishing a company.\n",
            "*   **AISOC | AI Summer of Code**: This organization was founded in **2024**. Its founding members are not individually named but are described as being driven by a shared passion for technology.\n",
            "\n",
            "Could you please clarify which AISoC you are interested in?\n"
          ]
        }
      ],
      "source": [
        "result = await research_agent.run(\"When was AISoC started and who is the founder?\")\n",
        "print(result.output)"
      ]
    },
    {
      "cell_type": "markdown",
      "metadata": {
        "id": "c60ca561"
      },
      "source": [
        "## Multi Agent\n",
        "\n",
        "This section will cover the implementation of multiple agents and how they interact."
      ]
    },
    {
      "cell_type": "markdown",
      "metadata": {
        "id": "IHr8Mcbt-TVo"
      },
      "source": [
        "### Writing instructions for Lead agent\n",
        "\n",
        "This is a prompt to instruct the Lead agent on what to do."
      ]
    },
    {
      "cell_type": "code",
      "execution_count": null,
      "metadata": {
        "id": "isaEVObL9APl"
      },
      "outputs": [],
      "source": [
        "lead_agent_instruction = \"\"\"You are a Research Lead Agent responsible for breaking down complex research queries and coordinating subagents to gather comprehensive information.\n",
        "\n",
        "Your Role:\n",
        "1. Analyze the user's research query\n",
        "2. Break it down into 2-4 focused research tasks\n",
        "3. Deploy subagents sequentially (not in parallel) to avoid rate limits\n",
        "4. Synthesize findings into a comprehensive final report\n",
        "\n",
        "Process:\n",
        "1. First, understand the query scope and complexity\n",
        "2. Create a simple research plan with 2-4 specific subtasks\n",
        "3. Use the `run_subagent` tool to assign each subtask to a subagent\n",
        "4. Wait for each subagent to complete before deploying the next one\n",
        "5. Carefully examine findings to identify gaps, inconsistencies, or new angles\n",
        "6. If needed, create additional research tasks to explore different perspectives or fill knowledge gaps\n",
        "7. Continue iterating until you have sufficient comprehensive information\n",
        "8. Review all findings and create a final synthesized report\n",
        "\n",
        "Guidelines:\n",
        "- Keep research tasks focused and specific\n",
        "- Deploy subagents one at a time to manage rate limits\n",
        "- Maximum of 2 follow-up research rounds after initial research to prevent loops\n",
        "- Ensure each subtask contributes unique value to the overall research\n",
        "- After each subagent completes, critically assess if the findings answer the research question\n",
        "- Look for knowledge gaps, conflicting information, or unexplored angles\n",
        "- Create follow-up tasks to address gaps or explore alternative perspectives\n",
        "- Stop iterating when you have sufficient coverage OR reach the follow-up limit\n",
        "- Create a comprehensive final report in structured markdown format\n",
        "- IMPORTANT: Output ONLY markdown text, no other format or structure\n",
        "- Follow this EXACT markdown structure:\n",
        "\n",
        "  # [Clear title that reflects the research scope]\n",
        "\n",
        "  ## Executive Summary\n",
        "\n",
        "  [Write an executive summary that captures the essence of your findings - 2-3 sentences]\n",
        "\n",
        "  ## [Section 1 Title - based on your research findings]\n",
        "\n",
        "  [Detailed findings for this section]\n",
        "\n",
        "  ## [Section 2 Title - based on your research findings]\n",
        "\n",
        "  [Detailed findings for this section]\n",
        "\n",
        "  ## [Additional sections as needed - typically 2-4 total sections]\n",
        "\n",
        "  [Continue with logical sections based on your findings]\n",
        "\n",
        "  ## Key Takeaways\n",
        "\n",
        "  1. [First key takeaway that directly addresses the user's query]\n",
        "  2. [Second key takeaway]\n",
        "  3. [Third key takeaway]\n",
        "  [Continue with 3-5 total takeaways]\n",
        "\n",
        "- Do NOT include citations, references, or source lists\n",
        "- Ensure high information density and be comprehensive yet concise\n",
        "- Stream your response as you write - don't wait to format everything at once\n",
        "\n",
        "Tools Available:\n",
        "- run_subagent: Send specific research tasks to subagents\n",
        "\"\"\""
      ]
    },
    {
      "cell_type": "markdown",
      "metadata": {
        "id": "b3u094zU-omf"
      },
      "source": [
        "### Defining lead agent"
      ]
    },
    {
      "cell_type": "code",
      "execution_count": null,
      "metadata": {
        "id": "Nh9UU6AZx6UT"
      },
      "outputs": [],
      "source": [
        "lead_agent = Agent(\n",
        "    model=model,\n",
        "    instructions=lead_agent_instruction,\n",
        "    output_type=str\n",
        ")"
      ]
    },
    {
      "cell_type": "code",
      "execution_count": null,
      "metadata": {
        "id": "IivRo8uyAFIq"
      },
      "outputs": [],
      "source": [
        "class Task(BaseModel):\n",
        "    \"\"\"Task to be assigned to a subagent\"\"\"\n",
        "\n",
        "    description: str\n",
        "    focus_area: str\n",
        "\n",
        "\n",
        "class SubagentTasks(BaseModel):\n",
        "    \"\"\"List of tasks to run subagents for\"\"\"\n",
        "\n",
        "    tasks: List[Task]"
      ]
    },
    {
      "cell_type": "code",
      "execution_count": null,
      "metadata": {
        "id": "KbgttIE01Rva"
      },
      "outputs": [],
      "source": [
        "import asyncio\n",
        "\n",
        "@lead_agent.tool_plain\n",
        "async def run_subagent(tasks: SubagentTasks):\n",
        "    \"\"\"Run subagents in parallel. Each task should be specific and focused.\"\"\"\n",
        "    print(f\"🚀 Running {len(tasks.tasks)} subagents...\")\n",
        "    print([{\"description\": task.description, \"focus_area\": task.focus_area}\n",
        "               for task in tasks.tasks])\n",
        "\n",
        "    results = await asyncio.gather(\n",
        "        *[\n",
        "            research_agent.run(\n",
        "                f\"Research Task: {task.description}\\nFocus Area: {task.focus_area}\",\n",
        "            )\n",
        "            for task in tasks.tasks\n",
        "        ]\n",
        "    )\n",
        "\n",
        "    print(f\"✅ Completed {len(results)} subagent tasks\")\n",
        "\n",
        "    return [result.output for result in results]"
      ]
    },
    {
      "cell_type": "code",
      "execution_count": null,
      "metadata": {
        "colab": {
          "base_uri": "https://localhost:8080/"
        },
        "id": "o-4j18_B4QMw",
        "outputId": "bba85152-bf79-4ee4-ccad-62923325217d"
      },
      "outputs": [
        {
          "name": "stdout",
          "output_type": "stream",
          "text": [
            "🚀 Running 1 subagents...\n",
            "[{'description': 'Determine the launch/start year of the AI Summer of Code by examining the official website, program blogs, and announcement pages.', 'focus_area': 'Start date/origins'}]\n",
            "✅ Completed 1 subagent tasks\n",
            "🚀 Running 1 subagents...\n",
            "[{'description': \"Identify the founder(s) of AI Summer of Code by examining the program's About page, leadership information, official blog introductions, and credible organizational profiles.\", 'focus_area': 'Founders and organizational leadership'}]\n",
            "✅ Completed 1 subagent tasks\n",
            "# Origins of the AI Summer of Code\n",
            "\n",
            "## Executive Summary\n",
            "\n",
            "The AI Summer of Code was publicly launched in July 2024, marking the beginning of its activities in the artificial intelligence education space. Zion Pibowei is most consistently recognized as the program’s founder and primary organizer, with Anand Ganu also appearing in leadership and possible co-founder roles.\n",
            "\n",
            "## Launch Date of AI Summer of Code\n",
            "\n",
            "The program’s public debut occurred in July 2024, as evidenced by the first official program announcement—the AISOC Biweekly Digest (Issue #001)—released on July 17, 2024. This date represents the start of formal communications and its inaugural program cohort, positioning mid-2024 as the program’s foundational period.\n",
            "\n",
            "## Founders and Organizational Leadership\n",
            "\n",
            "Zion Pibowei is the primary founder associated with AI Summer of Code, with numerous credible sources (including program communications and LinkedIn posts) affirming his central role in the program’s creation and organization. Anand Ganu is also referenced in some contexts as “Founder, President,” suggesting a leadership or co-founder capacity. Additional program structure involves a faculty and mentor team, but Zion Pibowei remains the most prominent figure tied to the program's origin.\n",
            "\n",
            "## Key Takeaways\n",
            "\n",
            "1. AI Summer of Code officially launched in July 2024.\n",
            "2. Zion Pibowei is the founder most directly and consistently linked to the program’s creation and direction.\n",
            "3. Anand Ganu is cited in some leadership sources as a founder or president.\n",
            "4. The inaugural cohort and official communications began with the first major blog post on July 17, 2024.\n",
            "5. The program is driven by a core founder(s) with support from notable mentors and industry experts.\n"
          ]
        }
      ],
      "source": [
        "result = await lead_agent.run(\"When was the AISoC started and who is the founder?\")\n",
        "print(result.output)"
      ]
    },
    {
      "cell_type": "markdown",
      "metadata": {
        "id": "nKg6UzBtedBd"
      },
      "source": [
        "### Assignment:\n",
        "\n",
        "The agent should ask for clarification before making a search."
      ]
    }
  ],
  "metadata": {
    "colab": {
      "collapsed_sections": [
        "670e8ffe",
        "53f6b6fd",
        "8Lk0y7bg8eWZ",
        "9610a019"
      ],
      "provenance": []
    },
    "kernelspec": {
      "display_name": "Python 3",
      "name": "python3"
    },
    "language_info": {
      "name": "python"
    }
  },
  "nbformat": 4,
  "nbformat_minor": 0
}
