{
 "cells": [
  {
   "cell_type": "markdown",
   "id": "70d77d34-f155-401c-9072-958fe0f9fbdc",
   "metadata": {},
   "source": [
    "## <center>Coding Attention Mechanisms</center>"
   ]
  },
  {
   "cell_type": "markdown",
   "id": "700ec353-97de-430f-99da-0362b37cc80c",
   "metadata": {},
   "source": [
    "We broke down the self-attention computation into many steps for clarity, examining it piece by piece. Now, we’ll bring everything together by implementing a compact Python class for self-attention based on what we’ve learned so far.\n",
    "\n",
    "<br><p>\n",
    "    \n",
    "---"
   ]
  },
  {
   "cell_type": "code",
   "execution_count": 9,
   "id": "292ae427-5ae1-4a14-82e1-0fd7c9d79150",
   "metadata": {},
   "outputs": [
    {
     "name": "stdout",
     "output_type": "stream",
     "text": [
      "Python implementation: CPython\n",
      "Python version       : 3.12.9\n",
      "IPython version      : 9.5.0\n",
      "\n",
      "watermark: 2.5.0\n",
      "torch    : 2.8.0\n",
      "\n"
     ]
    }
   ],
   "source": [
    "%load_ext watermark\n",
    "%watermark -v -p watermark,torch"
   ]
  },
  {
   "cell_type": "code",
   "execution_count": 2,
   "id": "081ae179-8105-4efd-87b6-15443422b55a",
   "metadata": {},
   "outputs": [],
   "source": [
    "import torch \n",
    "import torch.nn as nn "
   ]
  },
  {
   "cell_type": "markdown",
   "id": "55cd95e5-f56b-43f1-814c-500b9867f6f4",
   "metadata": {},
   "source": [
    "------\n",
    "\n",
    "<br><p> \n",
    "\n",
    "## 1. Self-Attention "
   ]
  },
  {
   "cell_type": "code",
   "execution_count": 3,
   "id": "565d6b3e-08d5-401d-bcdf-e7142e7761f4",
   "metadata": {},
   "outputs": [],
   "source": [
    "class SelfAttention_v1(nn.Module):\n",
    "    def __init__(self, d_in, d_out): \n",
    "        super().__init__()\n",
    "        self.W_query = nn.Parameter(torch.rand(d_in, d_out))\n",
    "        self.W_key = nn.Parameter(torch.rand(d_in, d_out))\n",
    "        self.W_value = nn.Parameter(torch.rand(d_in, d_out)) \n",
    "\n",
    "    def forward(self, x): \n",
    "        keys = x @ self.W_key\n",
    "        queries = x @ self.W_query\n",
    "        values = x @ self.W_value \n",
    "        attention_scores = queries @ keys.T \n",
    "        attention_weights = torch.softmax(attention_scores / (keys.shape[-1] ** 0.5), dim=-1)\n",
    "        context_vector = attention_weights @ values\n",
    "        return context_vector"
   ]
  },
  {
   "cell_type": "code",
   "execution_count": 4,
   "id": "bdc377ca-ec8a-4b4e-b9a1-7243f9671c9f",
   "metadata": {},
   "outputs": [],
   "source": [
    "inputs = torch.tensor(\n",
    "  [[0.43, 0.15, 0.89], # Your     (x^1)\n",
    "   [0.55, 0.87, 0.66], # journey  (x^2)\n",
    "   [0.57, 0.85, 0.64], # starts   (x^3)\n",
    "   [0.22, 0.58, 0.33], # with     (x^4)\n",
    "   [0.77, 0.25, 0.10], # one      (x^5)\n",
    "   [0.05, 0.80, 0.55]] # step     (x^6)\n",
    ")"
   ]
  },
  {
   "cell_type": "code",
   "execution_count": 6,
   "id": "76acfe9b-5ba7-4f0d-910b-35d620fccbc4",
   "metadata": {},
   "outputs": [
    {
     "name": "stdout",
     "output_type": "stream",
     "text": [
      "tensor([[0.2996, 0.8053],\n",
      "        [0.3061, 0.8210],\n",
      "        [0.3058, 0.8203],\n",
      "        [0.2948, 0.7939],\n",
      "        [0.2927, 0.7891],\n",
      "        [0.2990, 0.8040]], grad_fn=<MmBackward0>)\n"
     ]
    }
   ],
   "source": [
    "torch.manual_seed(123)\n",
    "d_in = inputs.shape[1]     \n",
    "d_out = 2 \n",
    "sa_v1 = SelfAttention_v1(d_in, d_out)\n",
    "print(sa_v1(inputs))"
   ]
  },
  {
   "cell_type": "markdown",
   "id": "d1c6cea6-5cbc-4d10-845e-52d1c15c0f5e",
   "metadata": {},
   "source": [
    "As a quick check, notice that the second $row ([0.3061, 0.8210])$ matches the contents of **context_vec_2** in `slide 57`. \n",
    "\n",
    "---"
   ]
  },
  {
   "cell_type": "markdown",
   "id": "bf226586-1483-4c8a-af15-24900ff733ea",
   "metadata": {},
   "source": [
    "**NOTE**\n",
    "- As show below, we can improve the `SelfAttention_v1` implementation further by utilizing PyTorch’s `nn.Linear` layers, which effectively perform matrix multiplication when the bias units are disabled.\n",
    "- Additionally, a significant advantage of using nn.Linear instead of manually implementing `nn.Parameter(torch.rand(...))` is that `nn.Linear` has an optimized weight initialization scheme, contributing to more stable and effective model training."
   ]
  },
  {
   "cell_type": "markdown",
   "id": "65c62b95-c4d8-469e-b329-34513ebcf6b3",
   "metadata": {},
   "source": [
    "----"
   ]
  },
  {
   "cell_type": "code",
   "execution_count": 12,
   "id": "6d2eb902-a16e-4521-b2e9-f128b42b1fb8",
   "metadata": {},
   "outputs": [],
   "source": [
    "class SelfAttention_v2(nn.Module):\n",
    "    def __init__(self, d_in, d_out, qkv_bias=False): \n",
    "        super().__init__()\n",
    "        self.W_query = nn.Linear(d_in, d_out, bias=qkv_bias)\n",
    "        self.W_key = nn.Linear(d_in, d_out, bias=qkv_bias)\n",
    "        self.W_value = nn.Linear(d_in, d_out, bias=qkv_bias)\n",
    "\n",
    "    def forward(self, x): \n",
    "        keys = self.W_key(x)\n",
    "        queries = self.W_query(x)\n",
    "        values = self.W_value(x)\n",
    "        attention_scores = queries @ keys.T \n",
    "        attention_weights = torch.softmax(attention_scores / (keys.shape[-1] ** 0.5), dim=-1)\n",
    "        context_vector = attention_weights @ values\n",
    "        return context_vector"
   ]
  },
  {
   "cell_type": "code",
   "execution_count": 14,
   "id": "7a761bd7-2174-4eac-b6e6-c31ee723a702",
   "metadata": {},
   "outputs": [
    {
     "name": "stdout",
     "output_type": "stream",
     "text": [
      "tensor([[-0.0739,  0.0713],\n",
      "        [-0.0748,  0.0703],\n",
      "        [-0.0749,  0.0702],\n",
      "        [-0.0760,  0.0685],\n",
      "        [-0.0763,  0.0679],\n",
      "        [-0.0754,  0.0693]], grad_fn=<MmBackward0>)\n"
     ]
    }
   ],
   "source": [
    "torch.manual_seed(789)\n",
    "sa_v2 = SelfAttention_v2(d_in=3, d_out=2)\n",
    "print(sa_v2(inputs))"
   ]
  },
  {
   "cell_type": "markdown",
   "id": "d6c348fb-3d3f-41b2-867a-f3d49e6bee3a",
   "metadata": {},
   "source": [
    "<br><p>\n",
    "\n",
    "**NOTE** \n",
    "\n",
    "`SelfAttention_v1` and `SelfAttention_v2` give different outputs because they use different initial weights for the weight matrices since `nn.Linear` uses a more sophisticated weight initialization scheme.\n",
    "\n",
    "---"
   ]
  },
  {
   "cell_type": "markdown",
   "id": "48e79f82-ce0c-450f-91d4-99e01804fee8",
   "metadata": {},
   "source": [
    "## 2. Causal Attention (Masked Attention)"
   ]
  },
  {
   "cell_type": "markdown",
   "id": "0c01edce-b84d-47ff-9e8e-7832f4e8c58a",
   "metadata": {},
   "source": [
    "First, let's ensure the code can handle batches consisting of more than one input; so that the `CausalAttention` class supports the batch outputs that will be produced by the dataloader. For simplicity, to simulate such batch inputs, we duplicate the input text example."
   ]
  },
  {
   "cell_type": "code",
   "execution_count": 44,
   "id": "9ce61bf4-22e1-4fe9-aa72-c563efde4ce7",
   "metadata": {},
   "outputs": [
    {
     "name": "stdout",
     "output_type": "stream",
     "text": [
      "torch.Size([2, 6, 3])\n"
     ]
    }
   ],
   "source": [
    "batch = torch.stack((inputs, inputs), dim=0)\n",
    "print(batch.shape)"
   ]
  },
  {
   "cell_type": "code",
   "execution_count": 45,
   "id": "09ec9e47-5691-4f79-9b9a-e55bc6e7ce47",
   "metadata": {},
   "outputs": [],
   "source": [
    "class CausalAttention(nn.Module): \n",
    "    def __init__(self, d_in, d_out, context_length, dropout, qkv_bias=False):\n",
    "        super().__init__() \n",
    "        self.d_out = d_out  \n",
    "        self.W_query = nn.Linear(d_in, d_out, bias=qkv_bias)\n",
    "        self.W_key   = nn.Linear(d_in, d_out, bias=qkv_bias)\n",
    "        self.W_value = nn.Linear(d_in, d_out, bias=qkv_bias)\n",
    "        self.dropout = nn.Dropout(dropout)\n",
    "        self.register_buffer('mask', torch.triu(torch.ones(context_length, context_length), diagonal=1))\n",
    "\n",
    "    def forward(self, x): \n",
    "        b, num_tokens, d_in = x.shape #<--- 2 x 6 x 3 (batch size, number of tokens in input sequence, input embedding size)\n",
    "        keys = self.W_key(x)\n",
    "        queries = self.W_query(x)\n",
    "        values = self.W_value(x)\n",
    "        \n",
    "        attention_scores = queries @ keys.transpose(1, 2) #<--- We transpose dimensions 1 and 2, keeping the batch dimension at the first position (0)\n",
    "        attention_scores.masked_fill_(self.mask.bool()[:num_tokens, :num_tokens], -torch.inf)\n",
    "        attention_weights = torch.softmax(attention_scores / keys.shape[-1] ** 0.5, dim=-1)\n",
    "        attention_weights = self.dropout(attention_weights)\n",
    "        \n",
    "        context_vector = attention_weights @ values\n",
    "        return context_vector"
   ]
  },
  {
   "cell_type": "code",
   "execution_count": 50,
   "id": "664e7a73-6bde-46d7-822d-510943d33fd4",
   "metadata": {},
   "outputs": [
    {
     "name": "stdout",
     "output_type": "stream",
     "text": [
      "context_vecs.shape: torch.Size([2, 6, 2])\n"
     ]
    }
   ],
   "source": [
    "torch.manual_seed(123)\n",
    "context_length = batch.shape[1]\n",
    "d_in = 3\n",
    "d_out = 2\n",
    "ca = CausalAttention(d_in, d_out, context_length, 0.0)\n",
    "context_vecs = ca(batch)\n",
    "print(\"context_vecs.shape:\", context_vecs.shape)"
   ]
  },
  {
   "cell_type": "markdown",
   "id": "3e7802f8-311d-45f0-836a-7a54be943412",
   "metadata": {},
   "source": [
    "---- \n",
    "**NOTE**\n",
    "\n",
    "- While all added code lines should be familiar at this point, we added a `self.register_buffer()` call in the `__init__` method.\n",
    "- The use of register_buffer in PyTorch is not strictly necessary for all use cases but offers several advantages here.\n",
    " > For instance, when we use the `CausalAttention` class in our LLM, buffers are automatically moved to the appropriate device (CPU or GPU) along with our model, which will be relevant when training our LLM.\n",
    "\n",
    "<p><hr>"
   ]
  },
  {
   "cell_type": "markdown",
   "id": "50f48c87-8f25-486c-b8d0-b1b4a2f00d14",
   "metadata": {},
   "source": [
    "<br><p>\n",
    "\n",
    "## 3. Multi-head Attention"
   ]
  },
  {
   "cell_type": "code",
   "execution_count": null,
   "id": "e7b65366-ded2-4ee0-a41c-8d6a06f9c352",
   "metadata": {},
   "outputs": [],
   "source": []
  },
  {
   "cell_type": "code",
   "execution_count": 56,
   "id": "fd9ea7e7-615a-4e81-8ede-f437cde337c8",
   "metadata": {},
   "outputs": [
    {
     "name": "stdout",
     "output_type": "stream",
     "text": [
      "tensor([[[-0.4519,  0.2216,  0.4772,  0.1063],\n",
      "         [-0.5874,  0.0058,  0.5891,  0.3257],\n",
      "         [-0.6300, -0.0632,  0.6202,  0.3860],\n",
      "         [-0.5675, -0.0843,  0.5478,  0.3589],\n",
      "         [-0.5526, -0.0981,  0.5321,  0.3428],\n",
      "         [-0.5299, -0.1081,  0.5077,  0.3493]],\n",
      "\n",
      "        [[-0.4519,  0.2216,  0.4772,  0.1063],\n",
      "         [-0.5874,  0.0058,  0.5891,  0.3257],\n",
      "         [-0.6300, -0.0632,  0.6202,  0.3860],\n",
      "         [-0.5675, -0.0843,  0.5478,  0.3589],\n",
      "         [-0.5526, -0.0981,  0.5321,  0.3428],\n",
      "         [-0.5299, -0.1081,  0.5077,  0.3493]]], grad_fn=<CatBackward0>)\n",
      "context_vecs.shape: torch.Size([2, 6, 4])\n"
     ]
    }
   ],
   "source": [
    "class MultiHeadAttentionWrapper(nn.Module): \n",
    "    def __init__(self, d_in, d_out, context_length, dropout, num_heads, qkv_bias = False): \n",
    "        super().__init__()\n",
    "        self.heads = nn.ModuleList([CausalAttention(d_in, d_out, context_length, dropout, qkv_bias) for _ in range(num_heads)])\n",
    "\n",
    "    def forward(self, x): \n",
    "        return torch.cat([head(x) for head in self.heads], dim=-1) \n",
    "\n",
    "torch.manual_seed(123)\n",
    "context_length = batch.shape[1] # This is the number of tokens\n",
    "d_in, d_out = 3, 2  \n",
    "\n",
    "mha = MultiHeadAttentionWrapper(d_in, d_out, context_length, 0.0, num_heads=2)\n",
    "context_vecs = mha(batch)\n",
    "print(context_vecs)\n",
    "print(\"context_vecs.shape:\", context_vecs.shape)"
   ]
  },
  {
   "cell_type": "markdown",
   "id": "d3afc10f-79ab-47d8-9605-31aaa9d494b7",
   "metadata": {},
   "source": []
  },
  {
   "cell_type": "code",
   "execution_count": null,
   "id": "ca78b5ce-c286-495e-bc01-6422233b24f4",
   "metadata": {},
   "outputs": [],
   "source": [
    "class MultiHeadAttention(nn.Module):\n",
    "    def __init__(self, d_in, d_out, context_length, dropout, num_heads, qkv_bias=False): \n",
    "        super().__init__()\n",
    "        assert d_out % num_heads = 0, \"d_out must be divisible by num_heads\" \n",
    "        self.d_out = d_out \n",
    "        self.num_heads = num_heads \n",
    "        self.head_dim = d_out // num_heads     #<--- Reduces the projection dim to match the desired output dim\n",
    "        self.W_query = nn.Linear(d_in, d_out, bias=qkv_bias)\n",
    "        self.W_key = nn.Linear(d_in, d_out, bias=qkv_bias) \n",
    "        self.W_value = nn.Linear(d_in, d_out, bias=qkv_bias) \n",
    "        self.out_proj = nn.Linear(d_out, d_out) #<--- Uses a Linear layer to combine head outputs\n",
    "        self.dropout = nn.Dropout(dropout)\n",
    "        self.register_buffer(\"mask\", torch.triu(torch.ones(context_length, context_length), diagonal=1)) \n",
    "\n",
    "    def forward(self, x):\n",
    "        b, num_tokens, d_in = x.shape\n",
    "        keys = self.W_key(x)\n",
    "        queries = self.W_query(x)\n",
    "        values = self.W_value(x)\n",
    "        \n",
    "        # We implicitly split the matrix by adding a num_heads dimension. \n",
    "        # Then we unroll the last dim: (b, num_tokens, d_out) -> (b, num_tokens, num_heads, head_dim).\n",
    "        \n",
    "        keys = keys.view(b, num_tokens, self.num_heads, self.head_dim)\n",
    "        values = values.view(b, num_tokens, self.num_heads, self.head_dim)\n",
    "        queries = queries.view(b, num_tokens, self.num_heads, self.head_dim \n",
    "\n",
    "        # Transposes from shape: (b, num_tokens, num_heads, head_dim) to (b, num_heads,num_tokens, head_dim)\n",
    "        keys = keys.transpose(1, 2)         \n",
    "        queries = queries.transpose(1, 2)   \n",
    "        values = values.transpose(1, 2)\n",
    "\n",
    "        attention_scores = queries @ keys.transpose(2, 3)         #<--- Computes  dot product for each head\n",
    "        mask_bool = self.mask.bool()[:num_tokens, :num_tokens]   #<--- Masks truncated to the number of tokens\n",
    "        \n",
    "        attn_scores.masked_fill_(mask_bool, -torch.inf)          #<--- Uses the mask to fill attention scores\n",
    "        attn_weights = torch.softmax(attn_scores / keys.shape[-1]**0.5, dim=-1)\n",
    "        attn_weights = self.dropout(attn_weights) \n",
    "\n",
    "        attn_scores.masked_fill_(mask_bool, -torch.inf)\n",
    "        attn_weights = torch.softmax(attn_scores / keys.shape[-1]**0.5, dim=-1)\n",
    "        attn_weights = self.dropout(attn_weights)\n",
    "        context_vec = (attn_weights @ values).transpose(1, 2) #<--- Tensor shape: (b, num_tokens, n_heads, head_dim)\n",
    "        context_vec = context_vec.contiguous().view(b, num_tokens, self.d_out) #<--- Combines heads, where self.d_out = self.num_heads * self.head_dim\n",
    "        context_vec = self.out_proj(context_vec) #<--- Adds an optional linear projection\n",
    "        \n",
    "        return context_vec\n",
    "                    "
   ]
  },
  {
   "cell_type": "code",
   "execution_count": null,
   "id": "a117d891-9473-48de-af5a-268d50cd4d9d",
   "metadata": {},
   "outputs": [],
   "source": []
  },
  {
   "cell_type": "code",
   "execution_count": null,
   "id": "95d7646f-7db2-4df0-8932-c1f998f6e245",
   "metadata": {},
   "outputs": [],
   "source": [
    "keys = keys.view(b, num_tokens, self.num_heads, self.head_dim)      \n",
    "values = values.view(b, num_tokens, self.num_heads, self.head_dim)  \n",
    "queries = queries.view(                                             \n",
    "    b, num_tokens, self.num_heads, self.head_dim                    \n",
    ") "
   ]
  }
 ],
 "metadata": {
  "kernelspec": {
   "display_name": "Python 3 (ipykernel)",
   "language": "python",
   "name": "python3"
  },
  "language_info": {
   "codemirror_mode": {
    "name": "ipython",
    "version": 3
   },
   "file_extension": ".py",
   "mimetype": "text/x-python",
   "name": "python",
   "nbconvert_exporter": "python",
   "pygments_lexer": "ipython3",
   "version": "3.12.9"
  }
 },
 "nbformat": 4,
 "nbformat_minor": 5
}
