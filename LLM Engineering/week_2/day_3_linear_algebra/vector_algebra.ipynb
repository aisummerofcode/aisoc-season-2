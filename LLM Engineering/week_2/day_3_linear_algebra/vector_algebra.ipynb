{
 "cells": [
  {
   "cell_type": "markdown",
   "id": "26bddff2",
   "metadata": {},
   "source": [
    "# Vector Algebra - Intro"
   ]
  },
  {
   "cell_type": "code",
   "execution_count": 1,
   "id": "89ff92b4",
   "metadata": {},
   "outputs": [],
   "source": [
    "from numpy import array"
   ]
  },
  {
   "cell_type": "code",
   "execution_count": 8,
   "id": "eb1fdac0",
   "metadata": {},
   "outputs": [],
   "source": [
    "v1 = array([1,2,3,4,5])\n",
    "v2 = array([3,4,6,7,9])"
   ]
  },
  {
   "cell_type": "markdown",
   "id": "b4d45d69",
   "metadata": {},
   "source": [
    "### Vector Arithmetics"
   ]
  },
  {
   "cell_type": "code",
   "execution_count": 9,
   "id": "cdc48f2e",
   "metadata": {},
   "outputs": [
    {
     "data": {
      "text/plain": [
       "array([ 4,  6,  9, 11, 14])"
      ]
     },
     "execution_count": 9,
     "metadata": {},
     "output_type": "execute_result"
    }
   ],
   "source": [
    "v1 + v2"
   ]
  },
  {
   "cell_type": "code",
   "execution_count": 12,
   "id": "db821348",
   "metadata": {},
   "outputs": [
    {
     "data": {
      "text/plain": [
       "array([2, 2, 3, 3, 4])"
      ]
     },
     "execution_count": 12,
     "metadata": {},
     "output_type": "execute_result"
    }
   ],
   "source": [
    "v2 - v1"
   ]
  },
  {
   "cell_type": "code",
   "execution_count": 13,
   "id": "ee963dd7",
   "metadata": {},
   "outputs": [
    {
     "data": {
      "text/plain": [
       "array([ 3,  8, 18, 28, 45])"
      ]
     },
     "execution_count": 13,
     "metadata": {},
     "output_type": "execute_result"
    }
   ],
   "source": [
    "v1 * v2"
   ]
  },
  {
   "cell_type": "code",
   "execution_count": 14,
   "id": "1c48e509",
   "metadata": {},
   "outputs": [
    {
     "data": {
      "text/plain": [
       "array([3.  , 2.  , 2.  , 1.75, 1.8 ])"
      ]
     },
     "execution_count": 14,
     "metadata": {},
     "output_type": "execute_result"
    }
   ],
   "source": [
    "v2 / v1"
   ]
  },
  {
   "cell_type": "code",
   "execution_count": 16,
   "id": "c01388a0",
   "metadata": {},
   "outputs": [
    {
     "data": {
      "text/plain": [
       "array([ 3,  6,  9, 12, 15])"
      ]
     },
     "execution_count": 16,
     "metadata": {},
     "output_type": "execute_result"
    }
   ],
   "source": [
    "s = 3\n",
    "s*v1"
   ]
  },
  {
   "cell_type": "code",
   "execution_count": 17,
   "id": "33a5c384",
   "metadata": {},
   "outputs": [
    {
     "data": {
      "text/plain": [
       "np.int64(102)"
      ]
     },
     "execution_count": 17,
     "metadata": {},
     "output_type": "execute_result"
    }
   ],
   "source": [
    "v1.dot(v2)"
   ]
  },
  {
   "cell_type": "code",
   "execution_count": 18,
   "id": "8bbdb5fc",
   "metadata": {},
   "outputs": [
    {
     "data": {
      "text/plain": [
       "np.int64(102)"
      ]
     },
     "execution_count": 18,
     "metadata": {},
     "output_type": "execute_result"
    }
   ],
   "source": [
    "def my_dot(a,b):\n",
    "    sum = 0\n",
    "    for i,j in zip(a,b):\n",
    "        sum += i*j\n",
    "    return sum\n",
    "\n",
    "my_dot(v1,v2)"
   ]
  },
  {
   "cell_type": "markdown",
   "id": "0795e406",
   "metadata": {},
   "source": [
    "### Vector Norms\n",
    "- $L^1$ Norm - $||v||_1$\n",
    "- $L^2$ norm - $||v||_2$"
   ]
  },
  {
   "cell_type": "code",
   "execution_count": 21,
   "id": "cd622aa5",
   "metadata": {},
   "outputs": [],
   "source": [
    "from numpy.linalg import norm"
   ]
  },
  {
   "cell_type": "code",
   "execution_count": null,
   "id": "0bde1da1",
   "metadata": {},
   "outputs": [
    {
     "data": {
      "text/plain": [
       "array([-2, -2, -3, -3, -4])"
      ]
     },
     "execution_count": 20,
     "metadata": {},
     "output_type": "execute_result"
    }
   ],
   "source": [
    "v3 = v1 - v2\n",
    "v3"
   ]
  },
  {
   "cell_type": "markdown",
   "id": "d102a506",
   "metadata": {},
   "source": [
    "The $L^1$ norm of $v_3$ is <br>\n",
    "$||v3||_1 = |a_1| + |a_2| + |a_3| + |a_4| + |a_5|$"
   ]
  },
  {
   "cell_type": "code",
   "execution_count": 23,
   "id": "81efe1bc",
   "metadata": {},
   "outputs": [
    {
     "data": {
      "text/plain": [
       "np.float64(14.0)"
      ]
     },
     "execution_count": 23,
     "metadata": {},
     "output_type": "execute_result"
    }
   ],
   "source": [
    "v3_norm = norm(v3,1)\n",
    "v3_norm"
   ]
  },
  {
   "cell_type": "markdown",
   "id": "5e2844ed",
   "metadata": {},
   "source": [
    "The $L^2$ norm of $v_3$ is <br>\n",
    "$||v3||_2 = \\sqrt{(a_1^2 + a_2^2 + a_3^2 + a_4^2 + a_5^2)}$"
   ]
  },
  {
   "cell_type": "code",
   "execution_count": 27,
   "id": "6fb3a6c5",
   "metadata": {},
   "outputs": [
    {
     "data": {
      "text/plain": [
       "np.float64(6.48074069840786)"
      ]
     },
     "execution_count": 27,
     "metadata": {},
     "output_type": "execute_result"
    }
   ],
   "source": [
    "v3_norm_2 = norm(v3)\n",
    "v3_norm_2"
   ]
  },
  {
   "cell_type": "markdown",
   "id": "33222f17",
   "metadata": {},
   "source": [
    "### Max Norm\n",
    "We can compute norms to an arbitrary number of values up to infinity. When we get to $L^\\infty$, we have what is called the **max norm**.\n",
    "\n",
    "The $L^n$ of $v_3$ is<br>\n",
    "$||v3||_n = \\sqrt[n]{(a_1^n + a_2^n + a_3^n + a_4^n + a_5^n)}$\n"
   ]
  },
  {
   "cell_type": "code",
   "execution_count": 32,
   "id": "74d00bbd",
   "metadata": {},
   "outputs": [
    {
     "data": {
      "text/plain": [
       "np.float64(4.605779351596907)"
      ]
     },
     "execution_count": 32,
     "metadata": {},
     "output_type": "execute_result"
    }
   ],
   "source": [
    "norm(v3,4)"
   ]
  },
  {
   "cell_type": "code",
   "execution_count": 34,
   "id": "595cfa47",
   "metadata": {},
   "outputs": [
    {
     "data": {
      "text/plain": [
       "np.float64(4.00126505813936)"
      ]
     },
     "execution_count": 34,
     "metadata": {},
     "output_type": "execute_result"
    }
   ],
   "source": [
    "norm(v3,20)"
   ]
  },
  {
   "cell_type": "code",
   "execution_count": 31,
   "id": "0a1d3a55",
   "metadata": {},
   "outputs": [
    {
     "data": {
      "text/plain": [
       "np.float64(4.0)"
      ]
     },
     "execution_count": 31,
     "metadata": {},
     "output_type": "execute_result"
    }
   ],
   "source": [
    "from math import inf\n",
    "norm(v3,inf)"
   ]
  },
  {
   "cell_type": "code",
   "execution_count": 38,
   "id": "a96f8969",
   "metadata": {},
   "outputs": [
    {
     "name": "stdout",
     "output_type": "stream",
     "text": [
      "[3 4 6 7 9]\n"
     ]
    },
    {
     "data": {
      "text/plain": [
       "np.float64(9.0)"
      ]
     },
     "execution_count": 38,
     "metadata": {},
     "output_type": "execute_result"
    }
   ],
   "source": [
    "print(v2)\n",
    "norm(v2,inf)"
   ]
  },
  {
   "cell_type": "code",
   "execution_count": 39,
   "id": "da7df2d7",
   "metadata": {},
   "outputs": [
    {
     "data": {
      "text/plain": [
       "np.float64(11.0)"
      ]
     },
     "execution_count": 39,
     "metadata": {},
     "output_type": "execute_result"
    }
   ],
   "source": [
    "norm([5,7,11,3,1],inf)"
   ]
  },
  {
   "cell_type": "code",
   "execution_count": null,
   "id": "6e2f5cca",
   "metadata": {},
   "outputs": [],
   "source": []
  }
 ],
 "metadata": {
  "kernelspec": {
   "display_name": "Python 3",
   "language": "python",
   "name": "python3"
  },
  "language_info": {
   "codemirror_mode": {
    "name": "ipython",
    "version": 3
   },
   "file_extension": ".py",
   "mimetype": "text/x-python",
   "name": "python",
   "nbconvert_exporter": "python",
   "pygments_lexer": "ipython3",
   "version": "3.11.9"
  }
 },
 "nbformat": 4,
 "nbformat_minor": 5
}
